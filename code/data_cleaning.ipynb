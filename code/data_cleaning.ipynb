{
 "cells": [
  {
   "cell_type": "markdown",
   "metadata": {},
   "source": [
    "# Data cleansing"
   ]
  },
  {
   "cell_type": "markdown",
   "metadata": {},
   "source": [
    "Importing packages"
   ]
  },
  {
   "cell_type": "code",
   "execution_count": 1,
   "metadata": {},
   "outputs": [],
   "source": [
    "import pandas as pd\n",
    "import numpy as np\n",
    "import os\n",
    "#### last one only needed for first function\n",
    "import ctypes"
   ]
  },
  {
   "cell_type": "markdown",
   "metadata": {},
   "source": [
    "Funtion sorting and listing data files in raw folder for easier access to file names \n",
    "(sends pop-up window if there is a not data type file in data folder)"
   ]
  },
  {
   "cell_type": "code",
   "execution_count": 2,
   "metadata": {},
   "outputs": [
    {
     "name": "stdout",
     "output_type": "stream",
     "text": [
      "euribor_3M.csv\n",
      "Europe_3_Factors.csv\n",
      "eurostoxx.xlsx\n",
      "gov_bond_yield_10Y.csv\n",
      "gov_bond_yield_2Y.csv\n",
      "gov_bond_yield_3Y.csv\n",
      "gov_bond_yield_5Y.csv\n",
      "gov_bond_yield_7Y.csv\n",
      "longt_ir_10Y.csv\n",
      "msci_gross.xlsx\n",
      "msci_net_price.xlsx\n",
      "msci_net_price_rt.xlsx\n",
      "msci_price.xlsx\n",
      "msci_price_rt.xlsx\n"
     ]
    }
   ],
   "source": [
    "def only_data_files(filepath):\n",
    "    for filename in os.listdir(filepath):\n",
    "        if filename[-4:]==\".csv\" or filename[-5:]==\".xlsx\":\n",
    "            print(filename)\n",
    "        else:\n",
    "            try:\n",
    "                ctypes.windll.user32.MessageBoxW(0, \"You have an unnecessary file in the folder: \"+filename, \"Warning\", 0)\n",
    "            except:\n",
    "                continue\n",
    "only_data_files(\"C:/Users/Szilvi/Documents/projects/coding-assignment/data/raw\")"
   ]
  },
  {
   "cell_type": "markdown",
   "metadata": {},
   "source": [
    "Reading and converting differnet data sets (Fama French factors, euribor, bonds, indexes)"
   ]
  },
  {
   "cell_type": "code",
   "execution_count": 3,
   "metadata": {},
   "outputs": [],
   "source": [
    "data=pd.read_csv(\"C:/Users/Szilvi/Documents/projects/coding-assignment/data/raw/Europe_3_Factors.csv\"\n",
    "                 , delimiter=\",\", skiprows=7, names=[\"date\", \"market_pr\", \"SMB\", \"HML\", \"RF\"]\n",
    "                 , nrows=364, dtype={\"date\":str})"
   ]
  },
  {
   "cell_type": "code",
   "execution_count": 4,
   "metadata": {},
   "outputs": [],
   "source": [
    "euribor=pd.read_csv(\"C:/Users/Szilvi/Documents/projects/coding-assignment/data/raw/euribor_3M.csv\"\n",
    "                    , delimiter=\",\", skiprows=5, names=[\"date\", \"euribor\"], dtype={\"date\":str})\n",
    "d={\"Jan\":\"01\", \"Feb\":\"02\", \"Mar\":\"03\", \"Apr\":\"04\", \"May\":\"05\", \"Jun\":\"06\", \n",
    "   \"Jul\":\"07\", \"Aug\":\"08\", \"Sep\": \"09\", \"Oct\":\"10\", \"Nov\":\"11\", \"Dec\":\"12\"}\n",
    "euribor.date.replace(d, inplace=True, regex=True)"
   ]
  },
  {
   "cell_type": "code",
   "execution_count": 5,
   "metadata": {},
   "outputs": [],
   "source": [
    "bonds={}\n",
    "d={\"Jan\":\"01\", \"Feb\":\"02\", \"Mar\":\"03\", \"Apr\":\"04\", \"May\":\"05\", \"Jun\":\"06\", \n",
    "   \"Jul\":\"07\", \"Aug\":\"08\", \"Sep\": \"09\", \"Oct\":\"10\", \"Nov\":\"11\", \"Dec\":\"12\"}\n",
    "\n",
    "for filename in [\"gov_bond_yield_2Y\", \"gov_bond_yield_3Y\", \"gov_bond_yield_5Y\", \n",
    "                 \"gov_bond_yield_7Y\", \"gov_bond_yield_10Y\", \"longt_ir_10Y\"]: \n",
    "    value=pd.read_csv(\"C:/Users/Szilvi/Documents/projects/coding-assignment/data/raw/\"+filename+\".csv\", \n",
    "                      delimiter=\",\", skiprows=5, names=[\"date\", filename])\n",
    "    value.date.replace(d, inplace=True, regex=True)\n",
    "    bonds[filename]=value"
   ]
  },
  {
   "cell_type": "code",
   "execution_count": 6,
   "metadata": {},
   "outputs": [],
   "source": [
    "index={}\n",
    "for filename in [\"msci_gross\", \"msci_net_price\", \"msci_net_price_rt\", \"msci_price\", \"msci_price_rt\", \"eurostoxx\"]: \n",
    "    value=pd.read_excel(\"C:/Users/Szilvi/Documents/projects/coding-assignment/data/raw/\"+filename+\".xlsx\", \n",
    "                        skiprows=17, usecols=[0,1], names=[\"date\", filename], dtype={\"date\":str})\n",
    "    value.date=value.date.str[0:4]+value.date.str[5:7]\n",
    "    value=value.groupby(\"date\").mean()\n",
    "    index[filename]=value"
   ]
  },
  {
   "cell_type": "markdown",
   "metadata": {},
   "source": [
    "Merging data sets into final dataframe"
   ]
  },
  {
   "cell_type": "code",
   "execution_count": 7,
   "metadata": {},
   "outputs": [],
   "source": [
    "final_data=pd.merge(data, euribor, on=\"date\", how=\"outer\")\n",
    "for i in bonds:\n",
    "    final_data=pd.merge(final_data, bonds[i], on=\"date\", how=\"outer\")\n",
    "for i in index:\n",
    "    final_data=pd.merge(final_data, index[i], on=\"date\", how=\"outer\")\n",
    "final_data.sort_values(by=\"date\", inplace=True)"
   ]
  },
  {
   "cell_type": "markdown",
   "metadata": {},
   "source": [
    "Calculating five year return"
   ]
  },
  {
   "cell_type": "code",
   "execution_count": 8,
   "metadata": {},
   "outputs": [],
   "source": [
    "yld=list(final_data[\"gov_bond_yield_5Y\"])\n",
    "price=[]\n",
    "return_5Y=[0]\n",
    "for i in range(len(yld)):\n",
    "    price.append(100/(1+yld[i])**5)\n",
    "for i in range(1,len(price)):\n",
    "    return_5Y.append(price[i]/price[i-1]-1)\n",
    "\n",
    "final_data[\"return_5Y\"]=return_5Y"
   ]
  },
  {
   "cell_type": "markdown",
   "metadata": {},
   "source": [
    "Saving derived data"
   ]
  },
  {
   "cell_type": "code",
   "execution_count": 9,
   "metadata": {},
   "outputs": [],
   "source": [
    "final_data.fillna(0, inplace=True)\n",
    "final_data.to_csv(\"C:/Users/Szilvi/Documents/projects/coding-assignment/data/derived/data.csv\")"
   ]
  }
 ],
 "metadata": {
  "kernelspec": {
   "display_name": "Python 3",
   "language": "python",
   "name": "python3"
  },
  "language_info": {
   "codemirror_mode": {
    "name": "ipython",
    "version": 3
   },
   "file_extension": ".py",
   "mimetype": "text/x-python",
   "name": "python",
   "nbconvert_exporter": "python",
   "pygments_lexer": "ipython3",
   "version": "3.8.3"
  }
 },
 "nbformat": 4,
 "nbformat_minor": 4
}
